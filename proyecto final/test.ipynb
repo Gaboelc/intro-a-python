{
 "cells": [
  {
   "cell_type": "code",
   "execution_count": 1,
   "metadata": {},
   "outputs": [],
   "source": [
    "f = open('data\\clientes.csv')"
   ]
  },
  {
   "cell_type": "code",
   "execution_count": 12,
   "metadata": {},
   "outputs": [],
   "source": [
    "with open('data\\clientes.csv', 'a') as f:\n",
    "    f.write('\\n22/05/2022,118220515,Gabo,Leon,23')"
   ]
  },
  {
   "cell_type": "code",
   "execution_count": 22,
   "metadata": {},
   "outputs": [
    {
     "name": "stdout",
     "output_type": "stream",
     "text": [
      "--------------------------------------------------------\n",
      "Ingrese los datos del cliente nuevo\n",
      "--------------------------------------------------------\n",
      "\n",
      "Ingrese la fecha de la consulta\n",
      "ingrese la cedula del cliente (Solo ingresar los numeros)\n",
      "Ingrese el nombre del cliente\n",
      "Ingrese el apellido del cliente\n",
      "Ingrese la edad del cliente\n",
      "Ingrese el correo del cliente\n",
      "Ingrese el tipo de vehiculo\n",
      "Ingrese la marca del vehiculo\n",
      "ingrese el año del vehiculo\n",
      "Ingrese el coste para la empresa de la consulta\n",
      "Ingrese el valor cobrado al cliente\n"
     ]
    }
   ],
   "source": [
    "print('--------------------------------------------------------')\n",
    "print('Ingrese los datos del cliente nuevo')\n",
    "print('--------------------------------------------------------\\n')\n",
    "print('Ingrese la fecha de la consulta')\n",
    "fecha = str(input())\n",
    "print('ingrese la cedula del cliente (Solo ingresar los numeros)')\n",
    "cedula = int(input())\n",
    "print('Ingrese el nombre del cliente')\n",
    "nombre = str(input())\n",
    "print('Ingrese el apellido del cliente')\n",
    "apellido = str(input())\n",
    "print('Ingrese la edad del cliente')\n",
    "edad = int(input())\n",
    "print('Ingrese el correo del cliente')\n",
    "correo = str(input())\n",
    "print('Ingrese el tipo de vehiculo')\n",
    "vehiculo = str(input())\n",
    "print('Ingrese la marca del vehiculo')\n",
    "marca = str(input())\n",
    "print('ingrese el año del vehiculo')\n",
    "anno = int(input())\n",
    "print('Ingrese el coste para la empresa de la consulta')\n",
    "coste_empresa = int(input())\n",
    "print('Ingrese el valor cobrado al cliente')\n",
    "coste_cliente = int(input())\n",
    "\n",
    "remuneracion = coste_cliente-coste_empresa\n",
    "\n",
    "with open('data\\clientes.csv', 'a') as f:\n",
    "    f.write(f'\\n{fecha},{cedula},{nombre},{apellido},{edad},{correo},{vehiculo},{marca},{anno},{coste_empresa},{coste_cliente},{remuneracion}')\n"
   ]
  },
  {
   "cell_type": "code",
   "execution_count": null,
   "metadata": {},
   "outputs": [],
   "source": []
  }
 ],
 "metadata": {
  "interpreter": {
   "hash": "a707b6ce8c685eb936424fcc3009d4b4b7a52543c4db09380a3fc49186ceb509"
  },
  "kernelspec": {
   "display_name": "Python 3.9.7 ('base')",
   "language": "python",
   "name": "python3"
  },
  "language_info": {
   "codemirror_mode": {
    "name": "ipython",
    "version": 3
   },
   "file_extension": ".py",
   "mimetype": "text/x-python",
   "name": "python",
   "nbconvert_exporter": "python",
   "pygments_lexer": "ipython3",
   "version": "3.9.7"
  },
  "orig_nbformat": 4
 },
 "nbformat": 4,
 "nbformat_minor": 2
}
